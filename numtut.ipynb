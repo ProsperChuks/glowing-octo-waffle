{
  "nbformat": 4,
  "nbformat_minor": 0,
  "metadata": {
    "colab": {
      "name": "numtut.ipynb",
      "provenance": [],
      "collapsed_sections": [],
      "toc_visible": true,
      "mount_file_id": "1jUx0b1n9yC5G95WwAHXj33oTZgcb8uNH",
      "authorship_tag": "ABX9TyMJGOoCIdyYlUIZ+Hi7V0ax",
      "include_colab_link": true
    },
    "kernelspec": {
      "name": "python3",
      "display_name": "Python 3"
    },
    "language_info": {
      "name": "python"
    }
  },
  "cells": [
    {
      "cell_type": "markdown",
      "metadata": {
        "id": "view-in-github",
        "colab_type": "text"
      },
      "source": [
        "<a href=\"https://colab.research.google.com/github/ProsperChuks/glowing-octo-waffle/blob/main/numtut.ipynb\" target=\"_parent\"><img src=\"https://colab.research.google.com/assets/colab-badge.svg\" alt=\"Open In Colab\"/></a>"
      ]
    },
    {
      "cell_type": "code",
      "metadata": {
        "id": "9HPck1ydc0FZ",
        "colab": {
          "base_uri": "https://localhost:8080/"
        },
        "outputId": "76e3f5d0-d57e-46fc-a308-8897027f3fcf"
      },
      "source": [
        "import numpy as np\n",
        " \n",
        "num = range(10)\n",
        "for eachval in num:\n",
        "  print(eachval+1)\n",
        " \n",
        "a = np.array([1,2,3])\n",
        "c = np.array([2,3,5])\n",
        " \n",
        "ans = a * c\n",
        "print(ans)"
      ],
      "execution_count": null,
      "outputs": [
        {
          "output_type": "stream",
          "text": [
            "1\n",
            "2\n",
            "3\n",
            "4\n",
            "5\n",
            "6\n",
            "7\n",
            "8\n",
            "9\n",
            "10\n",
            "[ 2  6 15]\n"
          ],
          "name": "stdout"
        }
      ]
    },
    {
      "cell_type": "code",
      "metadata": {
        "id": "zswSowrUdmWC",
        "colab": {
          "base_uri": "https://localhost:8080/"
        },
        "outputId": "f55a2df4-8804-41d3-dae4-1fbfd14b448d"
      },
      "source": [
        "# 2D\n",
        "p = np.array([[1.0, 4.0, 3.0],[2.0, 9.0, 6.0]], dtype='float16')\n",
        "print(p)\n",
        " \n",
        "#get dimension\n",
        "p.ndim\n",
        "\n",
        "#get shape\n",
        "p.shape\n",
        "\n",
        "#get size\n",
        "p.dtype"
      ],
      "execution_count": null,
      "outputs": [
        {
          "output_type": "stream",
          "text": [
            "[[1. 4. 3.]\n",
            " [2. 9. 6.]]\n"
          ],
          "name": "stdout"
        },
        {
          "output_type": "execute_result",
          "data": {
            "text/plain": [
              "dtype('float16')"
            ]
          },
          "metadata": {
            "tags": []
          },
          "execution_count": 31
        }
      ]
    },
    {
      "cell_type": "code",
      "metadata": {
        "colab": {
          "base_uri": "https://localhost:8080/"
        },
        "id": "DFfJNMX4hVZ8",
        "outputId": "8805bce1-f9af-4e2f-e070-d6c9aa2df0e5"
      },
      "source": [
        "d = np.array([[2,5,6,0,1,9,4],[1,2,3,4,5,6,7]])\n",
        "print(d)\n",
        "#get a specific element [r, c]\n",
        "d[0, -2]\n",
        "#get a specific row\n",
        "d[1,  :]\n",
        "# #[startindex:endindex:stepsize]\n",
        "d[0, 1:-1:2]"
      ],
      "execution_count": null,
      "outputs": [
        {
          "output_type": "stream",
          "text": [
            "[[2 5 6 0 1 9 4]\n",
            " [1 2 3 4 5 6 7]]\n"
          ],
          "name": "stdout"
        },
        {
          "output_type": "execute_result",
          "data": {
            "text/plain": [
              "array([1, 2, 3, 4, 5, 6, 7])"
            ]
          },
          "metadata": {
            "tags": []
          },
          "execution_count": 4
        }
      ]
    },
    {
      "cell_type": "code",
      "metadata": {
        "id": "PhZQNUp-uMnS",
        "colab": {
          "base_uri": "https://localhost:8080/"
        },
        "outputId": "43f34c44-f7c3-4e3e-a06e-147c272d5ce5"
      },
      "source": [
        "#3d\n",
        "h = np.array([[[4,5],[7,2]],[[9,1],[6,8]]])\n",
        "h.ndim\n",
        "print(h)\n",
        "\n",
        "#getting a specific element (work outside in)\n",
        "h[1, 1, 1]"
      ],
      "execution_count": null,
      "outputs": [
        {
          "output_type": "stream",
          "text": [
            "[[[4 5]\n",
            "  [7 2]]\n",
            "\n",
            " [[9 1]\n",
            "  [6 8]]]\n"
          ],
          "name": "stdout"
        },
        {
          "output_type": "execute_result",
          "data": {
            "text/plain": [
              "(2, 2, 2)"
            ]
          },
          "metadata": {
            "tags": []
          },
          "execution_count": 10
        }
      ]
    },
    {
      "cell_type": "markdown",
      "metadata": {
        "id": "xemSGe0lwc0O"
      },
      "source": [
        "Initializing Different types of Arrays"
      ]
    },
    {
      "cell_type": "code",
      "metadata": {
        "colab": {
          "base_uri": "https://localhost:8080/"
        },
        "id": "E2e11kxWwub5",
        "outputId": "4c9f5ecc-a400-44f3-8d98-58455ca5be63"
      },
      "source": [
        "# all 0s matrix\n",
        "np.zeros((2,3,3), dtype='int16')\n",
        "\n",
        "# all 1s matrix\n",
        "np.ones((2,2,2), dtype='int32')\n",
        "\n",
        "# any other number\n",
        "np.full((2,2), 78)\n",
        "\n",
        "# any other number (full_like)\n",
        "np.full_like(h, 3)\n",
        "\n",
        "# random decimal numbers\n",
        "np.random.rand(4,2)\n",
        "np.random.random_sample(h.shape)\n",
        "np.random.randint(8, size=(h.shape))\n",
        "\n",
        "# identity matrix\n",
        "np.identity(5)\n",
        "\n",
        "# repeat an array\n",
        "arr = np.array([[1,3,9]])\n",
        "r1 = np.repeat(arr, 3, axis=0)\n",
        "print(r1)"
      ],
      "execution_count": null,
      "outputs": [
        {
          "output_type": "stream",
          "text": [
            "[[1 3 9]\n",
            " [1 3 9]\n",
            " [1 3 9]]\n"
          ],
          "name": "stdout"
        }
      ]
    },
    {
      "cell_type": "markdown",
      "metadata": {
        "id": "AD1NKg1K6AtH"
      },
      "source": [
        "Mathematical Calculations"
      ]
    },
    {
      "cell_type": "code",
      "metadata": {
        "colab": {
          "base_uri": "https://localhost:8080/"
        },
        "id": "F1VxTtyq5_nV",
        "outputId": "76bd4fe9-13ec-42f1-f8fe-cbae47aaaf55"
      },
      "source": [
        "a = np.array([45, 45, 45])\n",
        "\n",
        "np.cos(a)\n",
        "np.tan(a)\n",
        "np.sin(a)"
      ],
      "execution_count": null,
      "outputs": [
        {
          "output_type": "execute_result",
          "data": {
            "text/plain": [
              "array([1.61977519, 1.61977519, 1.61977519])"
            ]
          },
          "metadata": {
            "tags": []
          },
          "execution_count": 7
        }
      ]
    },
    {
      "cell_type": "markdown",
      "metadata": {
        "id": "PZ59eGwE8CFh"
      },
      "source": [
        "Linear Algebra"
      ]
    },
    {
      "cell_type": "code",
      "metadata": {
        "colab": {
          "base_uri": "https://localhost:8080/"
        },
        "id": "gtr5Dz0G8F-v",
        "outputId": "02a68242-83ea-4e2f-d885-55225c9b983a"
      },
      "source": [
        "a = np.ones((2,3))\n",
        "print(a)\n",
        "\n",
        "b = np.full((3,2), 2)\n",
        "print(b)\n",
        "# matrix multiply function\n",
        "np.matmul(a,b)\n",
        "\n",
        "# find the determinant\n",
        "c = np.identity(3)\n",
        "np.linalg.det(c)"
      ],
      "execution_count": null,
      "outputs": [
        {
          "output_type": "stream",
          "text": [
            "[[1. 1. 1.]\n",
            " [1. 1. 1.]]\n",
            "[[2 2]\n",
            " [2 2]\n",
            " [2 2]]\n"
          ],
          "name": "stdout"
        },
        {
          "output_type": "execute_result",
          "data": {
            "text/plain": [
              "1.0"
            ]
          },
          "metadata": {
            "tags": []
          },
          "execution_count": 16
        }
      ]
    },
    {
      "cell_type": "markdown",
      "metadata": {
        "id": "sRaFATUb-b1C"
      },
      "source": [
        "Statistics"
      ]
    },
    {
      "cell_type": "code",
      "metadata": {
        "colab": {
          "base_uri": "https://localhost:8080/"
        },
        "id": "3WeDAKVf-eby",
        "outputId": "5f437583-a6d7-42b9-f313-b31426fefd2f"
      },
      "source": [
        "stats = np.array([[8,7,2], [3,4,6]])\n",
        "print(stats)\n",
        "\n",
        "# getting the min\n",
        "np.min(stats)\n",
        "\n",
        "# getting the max\n",
        "np.max(stats)\n",
        "\n",
        "np.sum(stats)"
      ],
      "execution_count": null,
      "outputs": [
        {
          "output_type": "stream",
          "text": [
            "[[8 7 2]\n",
            " [3 4 6]]\n"
          ],
          "name": "stdout"
        },
        {
          "output_type": "execute_result",
          "data": {
            "text/plain": [
              "30"
            ]
          },
          "metadata": {
            "tags": []
          },
          "execution_count": 23
        }
      ]
    },
    {
      "cell_type": "markdown",
      "metadata": {
        "id": "9tQq7T0xFUh_"
      },
      "source": [
        "Re-organizing arrays"
      ]
    },
    {
      "cell_type": "code",
      "metadata": {
        "colab": {
          "base_uri": "https://localhost:8080/"
        },
        "id": "mh7krUYzFa4C",
        "outputId": "1d2116ab-f223-41e1-ae8f-2484b8409bf8"
      },
      "source": [
        "before = np.array([[1,2,3,4],[5,6,7,8,]])\n",
        "print(before)\n",
        "\n",
        "after = before.reshape(4,2)\n",
        "print(after)"
      ],
      "execution_count": null,
      "outputs": [
        {
          "output_type": "stream",
          "text": [
            "[[1 2 3 4]\n",
            " [5 6 7 8]]\n",
            "[[1 2]\n",
            " [3 4]\n",
            " [5 6]\n",
            " [7 8]]\n"
          ],
          "name": "stdout"
        }
      ]
    },
    {
      "cell_type": "code",
      "metadata": {
        "colab": {
          "base_uri": "https://localhost:8080/"
        },
        "id": "UL0D0Z-_HH0-",
        "outputId": "5e420b58-818d-442b-c38c-88f907579d03"
      },
      "source": [
        "# vertically stacking vectors\n",
        "v1 = np.array([1,2,3,4])\n",
        "v2 = np.array([5,6,7,8])\n",
        "stacked = np.vstack([v2,v1])\n",
        "\n",
        "np.vsplit(stacked, 2)"
      ],
      "execution_count": null,
      "outputs": [
        {
          "output_type": "execute_result",
          "data": {
            "text/plain": [
              "[array([[5, 6, 7, 8]]), array([[1, 2, 3, 4]])]"
            ]
          },
          "metadata": {
            "tags": []
          },
          "execution_count": 42
        }
      ]
    },
    {
      "cell_type": "markdown",
      "metadata": {
        "id": "ZjVo3csiIrbB"
      },
      "source": [
        "# **Miscellaneous**\n",
        "### load data from file"
      ]
    },
    {
      "cell_type": "code",
      "metadata": {
        "id": "KfnaNU5DJA4O",
        "colab": {
          "base_uri": "https://localhost:8080/"
        },
        "outputId": "8636f039-a677-42e6-f978-0854bea61e6c"
      },
      "source": [
        "link = \"/content/drive/MyDrive/Colab Notebooks/data.txt\"\n",
        "filedata = np.genfromtxt(link, dtype='int16', delimiter=',')\n",
        "print(filedata)"
      ],
      "execution_count": null,
      "outputs": [
        {
          "output_type": "stream",
          "text": [
            "[[  1  62  24  52 495  59   8   4   7   1   0   2  62  13  27  60  21  11]\n",
            " [  4  69  43  56 712  81   9  47  15   6   8   0  14  56  97  74  31  12]\n",
            " [  1  13  44  14 444  33   2   8   1   7   5   8   9   6   3  98  23  49]]\n"
          ],
          "name": "stdout"
        }
      ]
    },
    {
      "cell_type": "markdown",
      "metadata": {
        "id": "aESJrGRg930h"
      },
      "source": [
        "### Boolean Masking and Advanced Indexing"
      ]
    },
    {
      "cell_type": "code",
      "metadata": {
        "colab": {
          "base_uri": "https://localhost:8080/"
        },
        "id": "acEuz--c-BWu",
        "outputId": "8f3ef8e4-9ac6-4631-b434-d854c1c794ef"
      },
      "source": [
        "print(filedata[filedata > 50])\n",
        "\n",
        "(~((filedata > 50) & (filedata < 100)))"
      ],
      "execution_count": null,
      "outputs": [
        {
          "output_type": "stream",
          "text": [
            "[ 62  52 495  59  62  60  69  56 712  81  56  97  74 444  98]\n"
          ],
          "name": "stdout"
        },
        {
          "output_type": "execute_result",
          "data": {
            "text/plain": [
              "array([[ True, False,  True, False,  True, False,  True,  True,  True,\n",
              "         True,  True,  True, False,  True,  True, False,  True,  True],\n",
              "       [ True, False,  True, False,  True, False,  True,  True,  True,\n",
              "         True,  True,  True,  True, False, False, False,  True,  True],\n",
              "       [ True,  True,  True,  True,  True,  True,  True,  True,  True,\n",
              "         True,  True,  True,  True,  True,  True, False,  True,  True]])"
            ]
          },
          "metadata": {
            "tags": []
          },
          "execution_count": 11
        }
      ]
    }
  ]
}