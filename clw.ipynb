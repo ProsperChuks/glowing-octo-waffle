{
  "nbformat": 4,
  "nbformat_minor": 0,
  "metadata": {
    "colab": {
      "name": "clw.ipynb",
      "provenance": [],
      "collapsed_sections": [],
      "mount_file_id": "1C_-dVQJX9eJKtCUwQpw8E04WepwJWrRU",
      "authorship_tag": "ABX9TyNalwq2Qq68xvTa7og3p+rR",
      "include_colab_link": true
    },
    "kernelspec": {
      "name": "python3",
      "display_name": "Python 3"
    },
    "language_info": {
      "name": "python"
    }
  },
  "cells": [
    {
      "cell_type": "markdown",
      "metadata": {
        "id": "view-in-github",
        "colab_type": "text"
      },
      "source": [
        "<a href=\"https://colab.research.google.com/github/ProsperChuks/glowing-octo-waffle/blob/main/clw.ipynb\" target=\"_parent\"><img src=\"https://colab.research.google.com/assets/colab-badge.svg\" alt=\"Open In Colab\"/></a>"
      ]
    },
    {
      "cell_type": "code",
      "metadata": {
        "id": "wGr_ZJfQbvI4",
        "colab": {
          "base_uri": "https://localhost:8080/"
        },
        "outputId": "09eba0bd-28e0-4471-c489-5e8d70836f1b"
      },
      "source": [
        "import numpy as np\n",
        "\n",
        "fov = np.ones((5,5), dtype='int')\n",
        "fov[1:4,1:4]=0\n",
        "fov[2,2]=9\n",
        "print(fov)"
      ],
      "execution_count": 1,
      "outputs": [
        {
          "output_type": "stream",
          "text": [
            "[[1 1 1 1 1]\n",
            " [1 0 0 0 1]\n",
            " [1 0 9 0 1]\n",
            " [1 0 0 0 1]\n",
            " [1 1 1 1 1]]\n"
          ],
          "name": "stdout"
        }
      ]
    },
    {
      "cell_type": "code",
      "metadata": {
        "colab": {
          "base_uri": "https://localhost:8080/"
        },
        "id": "c44-YT8PCj63",
        "outputId": "f12ff8a2-b9ad-4a57-8a74-2c327d272197"
      },
      "source": [
        "a = np.array([[1,2,3,4,5], [6,7,8,9,10]])\n",
        "b = np.array([[11,12,13,14,15], [16,17,18,19,20]])\n",
        "c = np.array([[21,22,23,24,25], [26,27,28,29,30]])\n",
        "\n",
        "stacked = np.vstack([a,b,c])\n",
        "print(stacked)\n",
        "print(stacked[2:4,0:2])\n",
        "print(stacked[[0,1,2,3], [1,2,3,4]])\n",
        "print(stacked[[0], [3, 4]])\n",
        "print(stacked[[0,4,5], 3:])"
      ],
      "execution_count": 2,
      "outputs": [
        {
          "output_type": "stream",
          "text": [
            "[[ 1  2  3  4  5]\n",
            " [ 6  7  8  9 10]\n",
            " [11 12 13 14 15]\n",
            " [16 17 18 19 20]\n",
            " [21 22 23 24 25]\n",
            " [26 27 28 29 30]]\n",
            "[[11 12]\n",
            " [16 17]]\n",
            "[ 2  8 14 20]\n",
            "[4 5]\n",
            "[[ 4  5]\n",
            " [24 25]\n",
            " [29 30]]\n"
          ],
          "name": "stdout"
        }
      ]
    }
  ]
}